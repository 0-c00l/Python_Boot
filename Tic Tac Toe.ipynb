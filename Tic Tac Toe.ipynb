{
 "cells": [
  {
   "cell_type": "code",
   "execution_count": 31,
   "metadata": {},
   "outputs": [
    {
     "name": "stdout",
     "output_type": "stream",
     "text": [
      "7 8 9\n",
      "4 5 6\n",
      "1 2 3\n"
     ]
    }
   ],
   "source": [
    "#Create a function that displays (print) a board\n",
    "board = [1,2,3,4,5,6,7,8,9]\n",
    "def print_board():   \n",
    "    print (board[6],board[7],board[8])\n",
    "    print (board[3],board[4],board[5])\n",
    "    print (board[0],board[1],board[2])\n",
    "print_board()"
   ]
  },
  {
   "cell_type": "code",
   "execution_count": 8,
   "metadata": {},
   "outputs": [
    {
     "name": "stdout",
     "output_type": "stream",
     "text": [
      "Please enter a number for the board position choice: \n",
      "Has to be a number!\n",
      "Please enter a number for the board position choice: \n",
      "Has to be a number!\n",
      "Please enter a number for the board position choice: \n",
      "Has to be a number!\n",
      "Please enter a number for the board position choice: 10\n",
      "Has to be a number from 1 to 9!\n",
      "Please enter a number for the board position choice: 10\n",
      "Has to be a number from 1 to 9!\n",
      "Please enter a number for the board position choice: 5\n"
     ]
    }
   ],
   "source": [
    "#create a function that takes players' input\n",
    "\n",
    "def player():\n",
    "    global inp\n",
    "    while True:\n",
    "        inp = input ('Please enter a number for the board position choice: ')\n",
    "        try: \n",
    "            inp == int(inp)\n",
    "            if int(inp) in range(1,10):\n",
    "                break\n",
    "            else: \n",
    "                print ('Has to be a number from 1 to 9!')\n",
    "        except:\n",
    "            print ('Has to be a number!')\n",
    "                \n",
    "player ()"
   ]
  },
  {
   "cell_type": "code",
   "execution_count": 2,
   "metadata": {},
   "outputs": [],
   "source": [
    "#create a function that searches for a winning combination\n",
    "\n",
    "#NEEDS REVISION. Find more efficient way. Perhaps using arguments in the function\n",
    "\n",
    "#LIST OF WINNING COMBINATIONS in TIC TAC TOE: Total 8\n",
    "# board[6],board[7],board[8]\n",
    "# board[3],board[4],board[5]\n",
    "# board[0],board[1],board[2]\n",
    "# board[8],board[5],board[2]\n",
    "# board[6],board[3],board[0]\n",
    "# board[7],board[4],board[1]\n",
    "# board[6],board[4],board[2]\n",
    "# board[8],board[4],board[0]\n",
    "\n",
    "board = [1,2,3,4,5,6,7,8,9]\n",
    "\n",
    "def win_search():\n",
    "    if (board[6] == board[7] == board[8] == 'x' or \n",
    "        board[3] == board[4] == board[5] == 'x' or \n",
    "        board[0] == board[1] == board[2] == 'x' or  \n",
    "        board[8] == board[5] == board[2] == 'x' or  \n",
    "        board[6] == board[3] == board[0] == 'x' or\n",
    "        board[7] == board[4] == board[1] == 'x' or\n",
    "        board[6] == board[4] == board[2] == 'x' or\n",
    "        board[8] == board[4] == board[0] == 'x'): \n",
    "        print ('Game Over! Player 1 WINS!') \n",
    "        return True\n",
    "    \n",
    "    if (board[6] == board[7] == board[8] == 'o' or \n",
    "        board[3] == board[4] == board[5] == 'o' or \n",
    "        board[0] == board[1] == board[2] == 'o' or  \n",
    "        board[8] == board[5] == board[2] == 'o' or  \n",
    "        board[6] == board[3] == board[0] == 'o' or\n",
    "        board[7] == board[4] == board[1] == 'o' or\n",
    "        board[6] == board[4] == board[2] == 'o' or\n",
    "        board[8] == board[4] == board[0] == 'o'): \n",
    "        print ('Game Over! Player 2 WINS!') \n",
    "        return True\n",
    "win_search()\n",
    "\n",
    "\n",
    "\n",
    "\n"
   ]
  },
  {
   "cell_type": "code",
   "execution_count": null,
   "metadata": {
    "collapsed": true
   },
   "outputs": [
    {
     "name": "stdout",
     "output_type": "stream",
     "text": [
      "7 8 9\n",
      "4 5 6\n",
      "1 2 3\n"
     ]
    }
   ],
   "source": [
    "#Create a function that replaces position on the board with either marker 'X' or 'O'.\n",
    "#In this funciton we are going to use a number of arguments: BOARD, MARKET, POSITION\n",
    "\n",
    "\n",
    "board = [1,2,3,4,5,6,7,8,9]\n",
    "def print_board():\n",
    "    print (board[6],board[7],board[8])\n",
    "    print (board[3],board[4],board[5])\n",
    "    print (board[0],board[1],board[2])\n",
    "print_board()\n",
    "\n",
    "#board = [1,2,3,4,5,6,7,8,9]\n",
    "def player():\n",
    "    while True:\n",
    "        inp = input ('Please enter a number for the board position choice: ')\n",
    "        try: \n",
    "            inp == int(inp)\n",
    "            if int(inp) in range(1,10):\n",
    "                break\n",
    "            else: \n",
    "                print ('Has to be a number from 1 to 9!')\n",
    "        except:\n",
    "            print ('Has to be a number!')\n",
    "    #for i in board:\n",
    "    board[int(inp)-1]= 'x'\n",
    "    print_board()\n",
    "player()\n"
   ]
  },
  {
   "cell_type": "code",
   "execution_count": 1,
   "metadata": {},
   "outputs": [
    {
     "name": "stdout",
     "output_type": "stream",
     "text": [
      "7 8 9\n",
      "4 5 6\n",
      "1 2 3\n",
      "Player 1, please enter a number for the board position choice: \n",
      "Has to be a number!\n",
      "Player 1, please enter a number for the board position choice: \n",
      "Has to be a number!\n",
      "Player 1, please enter a number for the board position choice: 15\n",
      "Has to be a number from 1 to 9!\n",
      "Player 1, please enter a number for the board position choice: 1\n",
      "7 8 9\n",
      "4 5 6\n",
      "x 2 3\n",
      "Player 2, please enter a number for the board position choice: 1\n",
      "Choose another position on the board\n",
      "Player 2, please enter a number for the board position choice: 2\n",
      "7 8 9\n",
      "4 5 6\n",
      "x o 3\n"
     ]
    }
   ],
   "source": [
    "#Create a function that checks if any of the position on the board is already taken \n",
    "board = [1,2,3,4,5,6,7,8,9]\n",
    "def print_board():\n",
    "    print (board[6],board[7],board[8])\n",
    "    print (board[3],board[4],board[5])\n",
    "    print (board[0],board[1],board[2])\n",
    "print_board()\n",
    "\n",
    "def win_search():\n",
    "    if board[6] == board[7] == board[8] == 'x': print ('Game Over! Player 1 WINS!') \n",
    "    if board[3] == board[4] == board[5] == 'x': print ('Game Over! Player 1 WINS!') \n",
    "    if board[0] == board[1] == board[2] == 'x': print ('Game Over! Player 1 WINS!') \n",
    "    if board[8] == board[5] == board[2] == 'x': print ('Game Over! Player 1 WINS!') \n",
    "    if board[6] == board[3] == board[0] == 'x': print ('Game Over! Player 1 WINS!') \n",
    "    if board[7] == board[4] == board[1] == 'x': print ('Game Over! Player 1 WINS!') \n",
    "    if board[6] == board[4] == board[2] == 'x': print ('Game Over! Player 1 WINS!') \n",
    "    if board[8] == board[4] == board[0] == 'x': print ('Game Over! Player 1 WINS!') \n",
    "    \n",
    "    if board[6] == board[7] == board[8] == 'o': print ('Game Over! Player 2 WINS!')\n",
    "    if board[3] == board[4] == board[5] == 'o': print ('Game Over! Player 2 WINS!')\n",
    "    if board[0] == board[1] == board[2] == 'o': print ('Game Over! Player 2 WINS!')\n",
    "    if board[8] == board[5] == board[2] == 'o': print ('Game Over! Player 2 WINS!')\n",
    "    if board[6] == board[3] == board[0] == 'o': print ('Game Over! Player 2 WINS!')\n",
    "    if board[7] == board[4] == board[1] == 'o': print ('Game Over! Player 2 WINS!') \n",
    "    if board[6] == board[4] == board[2] == 'o': print ('Game Over! Player 2 WINS!')\n",
    "    if board[8] == board[4] == board[0] == 'o': print ('Game Over! Player 2 WINS!')\n",
    "    \n",
    "win_search()\n",
    "\n",
    "def player_1():\n",
    "    while True:\n",
    "        inp = input ('Player 1, please enter a number for the board position choice: ')\n",
    "        try: \n",
    "            inp == int(inp)\n",
    "            if int(inp) in range(1,10):\n",
    "                if board [int(inp)-1] == 'x' or board [int(inp)-1] == 'o': \n",
    "                    print ('Choose another position on the board')\n",
    "                else:\n",
    "                    break\n",
    "            else: \n",
    "                print ('Has to be a number from 1 to 9!')\n",
    "        except:\n",
    "            print ('Has to be a number!')\n",
    "    #for i in board:\n",
    "    board[int(inp)-1]= 'x'\n",
    "    print_board()\n",
    "player_1()\n",
    "\n",
    "\n",
    "def player_2():\n",
    "    while True:\n",
    "        inp = input ('Player 2, please enter a number for the board position choice: ')\n",
    "        try: \n",
    "            inp == int(inp)\n",
    "            if int(inp) in range(1,10):\n",
    "                if board [int(inp)-1] == 'x' or board [int(inp)-1] == 'o': \n",
    "                    print ('Choose another position on the board')\n",
    "                else:\n",
    "                    break       \n",
    "            else: \n",
    "                print ('Has to be a number from 1 to 9!')\n",
    "        except:\n",
    "            print ('Has to be a number!')\n",
    "    \n",
    "            \n",
    "    board[int(inp)-1]= 'o'\n",
    "    print_board()\n",
    "player_2()\n"
   ]
  },
  {
   "cell_type": "code",
   "execution_count": 3,
   "metadata": {},
   "outputs": [
    {
     "ename": "SyntaxError",
     "evalue": "'break' outside loop (<ipython-input-3-324b36b2d931>, line 5)",
     "output_type": "error",
     "traceback": [
      "\u001b[1;36m  File \u001b[1;32m\"<ipython-input-3-324b36b2d931>\"\u001b[1;36m, line \u001b[1;32m5\u001b[0m\n\u001b[1;33m    break\u001b[0m\n\u001b[1;37m    ^\u001b[0m\n\u001b[1;31mSyntaxError\u001b[0m\u001b[1;31m:\u001b[0m 'break' outside loop\n"
     ]
    }
   ],
   "source": [
    "def space_check (): \n",
    "    if board [int(inp)-1] == 'x' or board [int(inp)-1] == 'o': \n",
    "        print ('Choose another position on the board')\n",
    "    else:\n",
    "        break"
   ]
  },
  {
   "cell_type": "code",
   "execution_count": null,
   "metadata": {
    "collapsed": true
   },
   "outputs": [],
   "source": [
    "def draw ():\n",
    "    for i in range(1,10):\n",
    "        if "
   ]
  }
 ],
 "metadata": {
  "kernelspec": {
   "display_name": "Python 3",
   "language": "python",
   "name": "python3"
  },
  "language_info": {
   "codemirror_mode": {
    "name": "ipython",
    "version": 3
   },
   "file_extension": ".py",
   "mimetype": "text/x-python",
   "name": "python",
   "nbconvert_exporter": "python",
   "pygments_lexer": "ipython3",
   "version": "3.6.3"
  }
 },
 "nbformat": 4,
 "nbformat_minor": 2
}
